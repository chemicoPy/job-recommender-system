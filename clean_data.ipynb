{
 "cells": [
  {
   "cell_type": "code",
   "execution_count": 1,
   "metadata": {},
   "outputs": [],
   "source": [
    "import numpy as np\n",
    "import pandas as pd"
   ]
  },
  {
   "cell_type": "code",
   "execution_count": 2,
   "metadata": {},
   "outputs": [],
   "source": [
    "df1 = pd.read_csv(\"./records.csv\")\n",
    "df2 = pd.read_csv(\"./records-2.csv\")\n",
    "df3 = pd.read_csv(\"./records-3.csv\")"
   ]
  },
  {
   "cell_type": "code",
   "execution_count": 3,
   "metadata": {},
   "outputs": [],
   "source": [
    "merged_1 = pd.merge(df1, df2, how='outer')"
   ]
  },
  {
   "cell_type": "code",
   "execution_count": 4,
   "metadata": {},
   "outputs": [],
   "source": [
    "df = pd.merge(merged_1, df3, how = \"outer\")"
   ]
  },
  {
   "cell_type": "code",
   "execution_count": 5,
   "metadata": {},
   "outputs": [
    {
     "data": {
      "text/plain": [
       "(5817, 5)"
      ]
     },
     "execution_count": 5,
     "metadata": {},
     "output_type": "execute_result"
    }
   ],
   "source": [
    "df.shape"
   ]
  },
  {
   "cell_type": "code",
   "execution_count": 6,
   "metadata": {},
   "outputs": [
    {
     "name": "stdout",
     "output_type": "stream",
     "text": [
      "\n",
      "Splitting 'location' column into two different columns :\n",
      "                               0          1\n",
      "0            Remote in Columbus   OH 43215\n",
      "1     Hybrid remote in Columbus   OH 43211\n",
      "2                           NaN        NaN\n",
      "3                           NaN        NaN\n",
      "4                           NaN        NaN\n",
      "...                         ...        ...\n",
      "5812                        NaN        NaN\n",
      "5813            Prescott Valley         AZ\n",
      "5814                     Tucson         AZ\n",
      "5815                     Tucson         AZ\n",
      "5816                        NaN        NaN\n",
      "\n",
      "[5817 rows x 2 columns]\n"
     ]
    }
   ],
   "source": [
    "print(\"\\nSplitting 'location' column into two different columns :\\n\", \n",
    "                                  df[\"Company Location\"].str.split(\",\",expand=True))"
   ]
  },
  {
   "cell_type": "code",
   "execution_count": 7,
   "metadata": {},
   "outputs": [],
   "source": [
    "df[['city','state']]=df[\"Company Location\"].str.split(\",\",expand=True)"
   ]
  },
  {
   "cell_type": "code",
   "execution_count": 8,
   "metadata": {},
   "outputs": [
    {
     "data": {
      "text/html": [
       "<div>\n",
       "<style scoped>\n",
       "    .dataframe tbody tr th:only-of-type {\n",
       "        vertical-align: middle;\n",
       "    }\n",
       "\n",
       "    .dataframe tbody tr th {\n",
       "        vertical-align: top;\n",
       "    }\n",
       "\n",
       "    .dataframe thead th {\n",
       "        text-align: right;\n",
       "    }\n",
       "</style>\n",
       "<table border=\"1\" class=\"dataframe\">\n",
       "  <thead>\n",
       "    <tr style=\"text-align: right;\">\n",
       "      <th></th>\n",
       "      <th>Job title</th>\n",
       "      <th>Salary</th>\n",
       "      <th>Date</th>\n",
       "      <th>Company Location</th>\n",
       "      <th>Company Name</th>\n",
       "      <th>city</th>\n",
       "      <th>state</th>\n",
       "    </tr>\n",
       "  </thead>\n",
       "  <tbody>\n",
       "    <tr>\n",
       "      <td>0</td>\n",
       "      <td>HYBRID - Electronic and Digital Design Special...</td>\n",
       "      <td>$27.03 an hour</td>\n",
       "      <td>19 days ago</td>\n",
       "      <td>Remote in Columbus, OH 43215</td>\n",
       "      <td>State of Ohio Jobs</td>\n",
       "      <td>Remote in Columbus</td>\n",
       "      <td>OH 43215</td>\n",
       "    </tr>\n",
       "    <tr>\n",
       "      <td>1</td>\n",
       "      <td>Layout Design Artist</td>\n",
       "      <td>$20.76 an hour</td>\n",
       "      <td>1 day ago</td>\n",
       "      <td>Hybrid remote in Columbus, OH 43211</td>\n",
       "      <td>State of Ohio Jobs</td>\n",
       "      <td>Hybrid remote in Columbus</td>\n",
       "      <td>OH 43211</td>\n",
       "    </tr>\n",
       "    <tr>\n",
       "      <td>2</td>\n",
       "      <td>Design Researcher</td>\n",
       "      <td>NaN</td>\n",
       "      <td>8 days ago</td>\n",
       "      <td>NaN</td>\n",
       "      <td>Central Mutual Insurance Company</td>\n",
       "      <td>NaN</td>\n",
       "      <td>NaN</td>\n",
       "    </tr>\n",
       "    <tr>\n",
       "      <td>3</td>\n",
       "      <td>Public Information Officer</td>\n",
       "      <td>$24.53 an hour</td>\n",
       "      <td>30 days ago</td>\n",
       "      <td>NaN</td>\n",
       "      <td>Franklin County Child Support Enforcement Agency</td>\n",
       "      <td>NaN</td>\n",
       "      <td>NaN</td>\n",
       "    </tr>\n",
       "    <tr>\n",
       "      <td>4</td>\n",
       "      <td>Public Information Officer</td>\n",
       "      <td>$24.53 an hour</td>\n",
       "      <td>30 days ago</td>\n",
       "      <td>NaN</td>\n",
       "      <td>Franklin County Child Support Enforcement Agency</td>\n",
       "      <td>NaN</td>\n",
       "      <td>NaN</td>\n",
       "    </tr>\n",
       "    <tr>\n",
       "      <td>...</td>\n",
       "      <td>...</td>\n",
       "      <td>...</td>\n",
       "      <td>...</td>\n",
       "      <td>...</td>\n",
       "      <td>...</td>\n",
       "      <td>...</td>\n",
       "      <td>...</td>\n",
       "    </tr>\n",
       "    <tr>\n",
       "      <td>5812</td>\n",
       "      <td>Extension Educator, 4-H Youth Development</td>\n",
       "      <td>NaN</td>\n",
       "      <td>1 day ago</td>\n",
       "      <td>NaN</td>\n",
       "      <td>Oklahoma State University</td>\n",
       "      <td>NaN</td>\n",
       "      <td>NaN</td>\n",
       "    </tr>\n",
       "    <tr>\n",
       "      <td>5813</td>\n",
       "      <td>Facilities Management &amp; Services Worker II (Pr...</td>\n",
       "      <td>$20 an hour</td>\n",
       "      <td>30+ days ago</td>\n",
       "      <td>Prescott Valley, AZ</td>\n",
       "      <td>University of Arizona</td>\n",
       "      <td>Prescott Valley</td>\n",
       "      <td>AZ</td>\n",
       "    </tr>\n",
       "    <tr>\n",
       "      <td>5814</td>\n",
       "      <td>Director, Cooperative Extension</td>\n",
       "      <td>NaN</td>\n",
       "      <td>30+ days ago</td>\n",
       "      <td>Tucson, AZ</td>\n",
       "      <td>University of Arizona</td>\n",
       "      <td>Tucson</td>\n",
       "      <td>AZ</td>\n",
       "    </tr>\n",
       "    <tr>\n",
       "      <td>5815</td>\n",
       "      <td>Associate Director, Programs, Family and Consu...</td>\n",
       "      <td>NaN</td>\n",
       "      <td>30+ days ago</td>\n",
       "      <td>Tucson, AZ</td>\n",
       "      <td>University of Arizona</td>\n",
       "      <td>Tucson</td>\n",
       "      <td>AZ</td>\n",
       "    </tr>\n",
       "    <tr>\n",
       "      <td>5816</td>\n",
       "      <td>County Agent III (Assistant Professor) Commerc...</td>\n",
       "      <td>NaN</td>\n",
       "      <td>21 days ago</td>\n",
       "      <td>NaN</td>\n",
       "      <td>Rutgers University</td>\n",
       "      <td>NaN</td>\n",
       "      <td>NaN</td>\n",
       "    </tr>\n",
       "  </tbody>\n",
       "</table>\n",
       "<p>5817 rows × 7 columns</p>\n",
       "</div>"
      ],
      "text/plain": [
       "                                              Job title          Salary  \\\n",
       "0     HYBRID - Electronic and Digital Design Special...  $27.03 an hour   \n",
       "1                                  Layout Design Artist  $20.76 an hour   \n",
       "2                                     Design Researcher             NaN   \n",
       "3                            Public Information Officer  $24.53 an hour   \n",
       "4                            Public Information Officer  $24.53 an hour   \n",
       "...                                                 ...             ...   \n",
       "5812          Extension Educator, 4-H Youth Development             NaN   \n",
       "5813  Facilities Management & Services Worker II (Pr...     $20 an hour   \n",
       "5814                    Director, Cooperative Extension             NaN   \n",
       "5815  Associate Director, Programs, Family and Consu...             NaN   \n",
       "5816  County Agent III (Assistant Professor) Commerc...             NaN   \n",
       "\n",
       "              Date                     Company Location  \\\n",
       "0      19 days ago         Remote in Columbus, OH 43215   \n",
       "1        1 day ago  Hybrid remote in Columbus, OH 43211   \n",
       "2       8 days ago                                  NaN   \n",
       "3      30 days ago                                  NaN   \n",
       "4      30 days ago                                  NaN   \n",
       "...            ...                                  ...   \n",
       "5812     1 day ago                                  NaN   \n",
       "5813  30+ days ago                  Prescott Valley, AZ   \n",
       "5814  30+ days ago                           Tucson, AZ   \n",
       "5815  30+ days ago                           Tucson, AZ   \n",
       "5816   21 days ago                                  NaN   \n",
       "\n",
       "                                          Company Name  \\\n",
       "0                                   State of Ohio Jobs   \n",
       "1                                   State of Ohio Jobs   \n",
       "2                     Central Mutual Insurance Company   \n",
       "3     Franklin County Child Support Enforcement Agency   \n",
       "4     Franklin County Child Support Enforcement Agency   \n",
       "...                                                ...   \n",
       "5812                         Oklahoma State University   \n",
       "5813                             University of Arizona   \n",
       "5814                             University of Arizona   \n",
       "5815                             University of Arizona   \n",
       "5816                                Rutgers University   \n",
       "\n",
       "                           city      state  \n",
       "0            Remote in Columbus   OH 43215  \n",
       "1     Hybrid remote in Columbus   OH 43211  \n",
       "2                           NaN        NaN  \n",
       "3                           NaN        NaN  \n",
       "4                           NaN        NaN  \n",
       "...                         ...        ...  \n",
       "5812                        NaN        NaN  \n",
       "5813            Prescott Valley         AZ  \n",
       "5814                     Tucson         AZ  \n",
       "5815                     Tucson         AZ  \n",
       "5816                        NaN        NaN  \n",
       "\n",
       "[5817 rows x 7 columns]"
      ]
     },
     "execution_count": 8,
     "metadata": {},
     "output_type": "execute_result"
    }
   ],
   "source": [
    "df"
   ]
  },
  {
   "cell_type": "code",
   "execution_count": 9,
   "metadata": {},
   "outputs": [
    {
     "data": {
      "text/plain": [
       "state\n",
       " AL          356\n",
       " AL 35005      2\n",
       " AL 35020      5\n",
       " AL 35022     19\n",
       " AL 35023      1\n",
       "            ... \n",
       " UT            2\n",
       " VA            1\n",
       " WA            5\n",
       " WA 98225      4\n",
       " WI            1\n",
       "Name: city, Length: 200, dtype: int64"
      ]
     },
     "execution_count": 9,
     "metadata": {},
     "output_type": "execute_result"
    }
   ],
   "source": [
    "state_groups =df.groupby(\"state\")\n",
    "state_groups[\"city\"].count()"
   ]
  },
  {
   "cell_type": "code",
   "execution_count": 10,
   "metadata": {},
   "outputs": [],
   "source": [
    "import matplotlib.pyplot as plt\n",
    "#plt.bar(state_groups.index, job_cnt, color='r', alpha=0.5, align=\"center\")\n",
    "job_count=state_groups.count()\n",
    "job_cnt=job_count['city']"
   ]
  },
  {
   "cell_type": "code",
   "execution_count": 11,
   "metadata": {},
   "outputs": [
    {
     "data": {
      "image/png": "[encoded data removed]",
      "text/plain": [
       "<Figure size 432x288 with 1 Axes>"
      ]
     },
     "metadata": {
      "needs_background": "light"
     },
     "output_type": "display_data"
    }
   ],
   "source": [
    "plt.bar(job_count.index, job_count['city'], color='b', alpha=0.5, align=\"center\")\n",
    "\n",
    "plt.xlim(-0.75, len(job_count.index))\n",
    "plt.ylim(0, max(job_count['city'])+50)\n",
    "plt.title(\"Job count by State/Country\")\n",
    "plt.xlabel(\"State/Country\")\n",
    "plt.ylabel(\"Number of Jobs\")\n",
    "\n",
    "plt.xticks(rotation=45)\n",
    "plt.show()"
   ]
  },
  {
   "cell_type": "code",
   "execution_count": 12,
   "metadata": {},
   "outputs": [],
   "source": [
    "df = df.drop_duplicates(keep=False)"
   ]
  },
  {
   "cell_type": "code",
   "execution_count": 13,
   "metadata": {},
   "outputs": [
    {
     "data": {
      "text/html": [
       "<div>\n",
       "<style scoped>\n",
       "    .dataframe tbody tr th:only-of-type {\n",
       "        vertical-align: middle;\n",
       "    }\n",
       "\n",
       "    .dataframe tbody tr th {\n",
       "        vertical-align: top;\n",
       "    }\n",
       "\n",
       "    .dataframe thead th {\n",
       "        text-align: right;\n",
       "    }\n",
       "</style>\n",
       "<table border=\"1\" class=\"dataframe\">\n",
       "  <thead>\n",
       "    <tr style=\"text-align: right;\">\n",
       "      <th></th>\n",
       "      <th>Job title</th>\n",
       "      <th>Salary</th>\n",
       "      <th>Date</th>\n",
       "      <th>Company Location</th>\n",
       "      <th>Company Name</th>\n",
       "      <th>city</th>\n",
       "      <th>state</th>\n",
       "    </tr>\n",
       "  </thead>\n",
       "  <tbody>\n",
       "    <tr>\n",
       "      <td>0</td>\n",
       "      <td>HYBRID - Electronic and Digital Design Special...</td>\n",
       "      <td>$27.03 an hour</td>\n",
       "      <td>19 days ago</td>\n",
       "      <td>Remote in Columbus, OH 43215</td>\n",
       "      <td>State of Ohio Jobs</td>\n",
       "      <td>Remote in Columbus</td>\n",
       "      <td>OH 43215</td>\n",
       "    </tr>\n",
       "    <tr>\n",
       "      <td>1</td>\n",
       "      <td>Layout Design Artist</td>\n",
       "      <td>$20.76 an hour</td>\n",
       "      <td>1 day ago</td>\n",
       "      <td>Hybrid remote in Columbus, OH 43211</td>\n",
       "      <td>State of Ohio Jobs</td>\n",
       "      <td>Hybrid remote in Columbus</td>\n",
       "      <td>OH 43211</td>\n",
       "    </tr>\n",
       "    <tr>\n",
       "      <td>2</td>\n",
       "      <td>Design Researcher</td>\n",
       "      <td>NaN</td>\n",
       "      <td>8 days ago</td>\n",
       "      <td>NaN</td>\n",
       "      <td>Central Mutual Insurance Company</td>\n",
       "      <td>NaN</td>\n",
       "      <td>NaN</td>\n",
       "    </tr>\n",
       "    <tr>\n",
       "      <td>12</td>\n",
       "      <td>Design Consultant</td>\n",
       "      <td>Up to $180,000 a year</td>\n",
       "      <td>30+ days ago</td>\n",
       "      <td>Dublin, OH 43016</td>\n",
       "      <td>Bassett Furniture</td>\n",
       "      <td>Dublin</td>\n",
       "      <td>OH 43016</td>\n",
       "    </tr>\n",
       "    <tr>\n",
       "      <td>13</td>\n",
       "      <td>Product Design, Associate</td>\n",
       "      <td>NaN</td>\n",
       "      <td>4 days ago</td>\n",
       "      <td>NaN</td>\n",
       "      <td>JPMorgan Chase Bank, N.A.</td>\n",
       "      <td>NaN</td>\n",
       "      <td>NaN</td>\n",
       "    </tr>\n",
       "    <tr>\n",
       "      <td>14</td>\n",
       "      <td>Artist, Graphic Retail</td>\n",
       "      <td>NaN</td>\n",
       "      <td>1 day ago</td>\n",
       "      <td>NaN</td>\n",
       "      <td>Giant Eagle, Inc.</td>\n",
       "      <td>NaN</td>\n",
       "      <td>NaN</td>\n",
       "    </tr>\n",
       "    <tr>\n",
       "      <td>15</td>\n",
       "      <td>Product Design Engineer</td>\n",
       "      <td>NaN</td>\n",
       "      <td>30+ days ago</td>\n",
       "      <td>Remote in London, OH</td>\n",
       "      <td>Harness.io</td>\n",
       "      <td>Remote in London</td>\n",
       "      <td>OH</td>\n",
       "    </tr>\n",
       "    <tr>\n",
       "      <td>16</td>\n",
       "      <td>Designer</td>\n",
       "      <td>NaN</td>\n",
       "      <td>30+ days ago</td>\n",
       "      <td>NaN</td>\n",
       "      <td>McGraw Hill</td>\n",
       "      <td>NaN</td>\n",
       "      <td>NaN</td>\n",
       "    </tr>\n",
       "    <tr>\n",
       "      <td>17</td>\n",
       "      <td>Pricing Design Architect III - REMOTE/HYBRID</td>\n",
       "      <td>NaN</td>\n",
       "      <td>15 days ago</td>\n",
       "      <td>Remote in Columbus, OH</td>\n",
       "      <td>FedEx Supply Chain</td>\n",
       "      <td>Remote in Columbus</td>\n",
       "      <td>OH</td>\n",
       "    </tr>\n",
       "    <tr>\n",
       "      <td>18</td>\n",
       "      <td>Design Consultant</td>\n",
       "      <td>NaN</td>\n",
       "      <td>30+ days ago</td>\n",
       "      <td>NaN</td>\n",
       "      <td>The Cleary Company</td>\n",
       "      <td>NaN</td>\n",
       "      <td>NaN</td>\n",
       "    </tr>\n",
       "  </tbody>\n",
       "</table>\n",
       "</div>"
      ],
      "text/plain": [
       "                                            Job title                 Salary  \\\n",
       "0   HYBRID - Electronic and Digital Design Special...         $27.03 an hour   \n",
       "1                                Layout Design Artist         $20.76 an hour   \n",
       "2                                   Design Researcher                    NaN   \n",
       "12                                  Design Consultant  Up to $180,000 a year   \n",
       "13                          Product Design, Associate                    NaN   \n",
       "14                             Artist, Graphic Retail                    NaN   \n",
       "15                            Product Design Engineer                    NaN   \n",
       "16                                           Designer                    NaN   \n",
       "17       Pricing Design Architect III - REMOTE/HYBRID                    NaN   \n",
       "18                                  Design Consultant                    NaN   \n",
       "\n",
       "            Date                     Company Location  \\\n",
       "0    19 days ago         Remote in Columbus, OH 43215   \n",
       "1      1 day ago  Hybrid remote in Columbus, OH 43211   \n",
       "2     8 days ago                                  NaN   \n",
       "12  30+ days ago                     Dublin, OH 43016   \n",
       "13    4 days ago                                  NaN   \n",
       "14     1 day ago                                  NaN   \n",
       "15  30+ days ago                 Remote in London, OH   \n",
       "16  30+ days ago                                  NaN   \n",
       "17   15 days ago               Remote in Columbus, OH   \n",
       "18  30+ days ago                                  NaN   \n",
       "\n",
       "                        Company Name                       city      state  \n",
       "0                 State of Ohio Jobs         Remote in Columbus   OH 43215  \n",
       "1                 State of Ohio Jobs  Hybrid remote in Columbus   OH 43211  \n",
       "2   Central Mutual Insurance Company                        NaN        NaN  \n",
       "12                 Bassett Furniture                     Dublin   OH 43016  \n",
       "13         JPMorgan Chase Bank, N.A.                        NaN        NaN  \n",
       "14                 Giant Eagle, Inc.                        NaN        NaN  \n",
       "15                        Harness.io           Remote in London         OH  \n",
       "16                       McGraw Hill                        NaN        NaN  \n",
       "17                FedEx Supply Chain         Remote in Columbus         OH  \n",
       "18                The Cleary Company                        NaN        NaN  "
      ]
     },
     "execution_count": 13,
     "metadata": {},
     "output_type": "execute_result"
    }
   ],
   "source": [
    "df.head(10)"
   ]
  },
  {
   "cell_type": "code",
   "execution_count": 14,
   "metadata": {},
   "outputs": [
    {
     "data": {
      "text/plain": [
       "(2398, 7)"
      ]
     },
     "execution_count": 14,
     "metadata": {},
     "output_type": "execute_result"
    }
   ],
   "source": [
    "df.shape"
   ]
  },
  {
   "cell_type": "code",
   "execution_count": 15,
   "metadata": {},
   "outputs": [
    {
     "data": {
      "text/plain": [
       "Job title              0\n",
       "Salary              1774\n",
       "Date                  10\n",
       "Company Location     857\n",
       "Company Name           0\n",
       "city                 857\n",
       "state               1010\n",
       "dtype: int64"
      ]
     },
     "execution_count": 15,
     "metadata": {},
     "output_type": "execute_result"
    }
   ],
   "source": [
    "df.isna().sum()"
   ]
  },
  {
   "cell_type": "code",
   "execution_count": 16,
   "metadata": {},
   "outputs": [
    {
     "name": "stdout",
     "output_type": "stream",
     "text": [
      "(857, 7)\n"
     ]
    },
    {
     "data": {
      "text/plain": [
       "857"
      ]
     },
     "execution_count": 16,
     "metadata": {},
     "output_type": "execute_result"
    }
   ],
   "source": [
    "print(df[pd.isnull(df['city'])].shape)\n",
    "df1 = df[pd.isnull(df['city'])]\n",
    "#print(df1[df1['city'] != np.nan]['Company Name'].unique())\n",
    "len(df1)"
   ]
  },
  {
   "cell_type": "code",
   "execution_count": 17,
   "metadata": {},
   "outputs": [],
   "source": [
    "df.to_csv(\"clean_data.csv\")"
   ]
  },
  {
   "cell_type": "code",
   "execution_count": null,
   "metadata": {},
   "outputs": [],
   "source": []
  }
 ],
 "metadata": {
  "kernelspec": {
   "display_name": "Python 3",
   "language": "python",
   "name": "python3"
  },
  "language_info": {
   "codemirror_mode": {
    "name": "ipython",
    "version": 3
   },
   "file_extension": ".py",
   "mimetype": "text/x-python",
   "name": "python",
   "nbconvert_exporter": "python",
   "pygments_lexer": "ipython3",
   "version": "3.7.4"
  }
 },
 "nbformat": 4,
 "nbformat_minor": 2
}
